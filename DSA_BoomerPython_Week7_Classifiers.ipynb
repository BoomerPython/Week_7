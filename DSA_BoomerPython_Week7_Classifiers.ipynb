{
  "nbformat": 4,
  "nbformat_minor": 0,
  "metadata": {
    "colab": {
      "name": "DSA_BoomerPython_Week7_Classifiers.ipynb",
      "provenance": []
    },
    "kernelspec": {
      "display_name": "Python 3",
      "name": "python3"
    }
  },
  "cells": [
    {
      "cell_type": "code",
      "metadata": {
        "id": "w7EbKlLH5TqV"
      },
      "source": [
        "# BASED ON scikit learn DOCUMENTATION\n",
        "\n",
        "import numpy as np\n",
        "import pandas as pd\n",
        "import sklearn\n",
        "\n",
        "\n",
        "from sklearn.neighbors import KNeighborsClassifier\n",
        "from sklearn.datasets import fetch_openml\n",
        "from sklearn.utils import check_random_state\n",
        "from sklearn.model_selection import train_test_split"
      ],
      "execution_count": null,
      "outputs": []
    },
    {
      "cell_type": "markdown",
      "metadata": {
        "id": "fESmB75b-OTd"
      },
      "source": [
        "# The Data"
      ]
    },
    {
      "cell_type": "markdown",
      "metadata": {
        "id": "K1Lv1RWL-RGN"
      },
      "source": [
        "The MNIST dataset consists of 70,000 handwritten digits used to evaluate algorithms for classification - more details can be found [here](http://yann.lecun.com/exdb/mnist/)."
      ]
    },
    {
      "cell_type": "code",
      "metadata": {
        "id": "yhbHcgR46CwS"
      },
      "source": [
        "# OBTAIN\n",
        "\n",
        "# DATA AVAILABLE @ https://www.openml.org/d/554\n",
        "# THERE ARE MANY SOURCES OF THE MNIST DATA - THIS IS ONE\n",
        "\n",
        "X, y = fetch_openml('mnist_784', version=1, return_X_y=True)\n"
      ],
      "execution_count": null,
      "outputs": []
    },
    {
      "cell_type": "markdown",
      "metadata": {
        "id": "j8nmUFcE99FU"
      },
      "source": [
        "# Scrub\n"
      ]
    },
    {
      "cell_type": "code",
      "metadata": {
        "id": "nJprBlZ36rJ4"
      },
      "source": [
        "# SCRUB\n",
        "random_state = check_random_state(0)\n",
        "permutation = random_state.permutation(X.shape[0])\n",
        "X = X[permutation]\n",
        "y = y[permutation]\n",
        "X = X.reshape((X.shape[0], -1))"
      ],
      "execution_count": null,
      "outputs": []
    },
    {
      "cell_type": "code",
      "metadata": {
        "id": "G4zi_6OFn6-o"
      },
      "source": [
        "# SCRUB - FOR TESTING USE SMALLER\n",
        "# k-nearest neighbor algo runtime >= 150 mins | train_samples = 60000\n",
        "\n",
        "train_samples=6000\n",
        "#train_samples = 60000"
      ],
      "execution_count": null,
      "outputs": []
    },
    {
      "cell_type": "code",
      "metadata": {
        "id": "2jI-KB7f7HMo"
      },
      "source": [
        "# SCRUB - TEST / TRAIN SPLIT\n",
        "\n",
        "X_train, X_test, y_train, y_test = train_test_split(\n",
        "    X, y, train_size=train_samples, test_size=10000)"
      ],
      "execution_count": null,
      "outputs": []
    },
    {
      "cell_type": "markdown",
      "metadata": {
        "id": "g4bSJGiKGK-m"
      },
      "source": [
        "# Bayes"
      ]
    },
    {
      "cell_type": "markdown",
      "metadata": {
        "id": "drOcfICP7NSS"
      },
      "source": [
        "Naive Bayes are a set of supervised learning algorithms - more details [here](https://scikit-learn.org/stable/modules/naive_bayes.html#naive-bayes)"
      ]
    },
    {
      "cell_type": "code",
      "metadata": {
        "id": "u_jEdD8WGrFc"
      },
      "source": [
        "from sklearn.naive_bayes import GaussianNB\n",
        "\n",
        "from sklearn.metrics import accuracy_score"
      ],
      "execution_count": null,
      "outputs": []
    },
    {
      "cell_type": "code",
      "metadata": {
        "id": "l6nkxhRWGw06"
      },
      "source": [
        "# MODEL\n",
        "\n",
        "# Initialize our classifier\n",
        "gnb = GaussianNB()\n",
        "\n",
        "# Train our classifier\n",
        "model = gnb.fit(X_train, y_train)"
      ],
      "execution_count": null,
      "outputs": []
    },
    {
      "cell_type": "code",
      "metadata": {
        "id": "05ZAR5c1HP2e"
      },
      "source": [
        "# MODEL\n",
        "\n",
        "# Make predictions\n",
        "preds = gnb.predict(X_test)\n",
        "# print(preds)"
      ],
      "execution_count": null,
      "outputs": []
    },
    {
      "cell_type": "code",
      "metadata": {
        "colab": {
          "base_uri": "https://localhost:8080/",
          "height": 35
        },
        "id": "hi4bSVmpHX71",
        "outputId": "68d07d6a-9f89-443b-f1f4-02e02956bea2"
      },
      "source": [
        "# MODEL\n",
        "\n",
        "# Evaluate accuracy\n",
        "print(accuracy_score(y_test, preds))"
      ],
      "execution_count": null,
      "outputs": [
        {
          "output_type": "stream",
          "text": [
            "0.564\n"
          ],
          "name": "stdout"
        }
      ]
    },
    {
      "cell_type": "code",
      "metadata": {
        "colab": {
          "base_uri": "https://localhost:8080/",
          "height": 199
        },
        "id": "wmzDUYNTHk0n",
        "outputId": "b8dd53d8-4bf8-4eca-b412-a8625540c504"
      },
      "source": [
        "# INTERPRET\n",
        "\n",
        "expected = y_test\n",
        "predicted = preds\n",
        "print(sklearn.metrics.confusion_matrix(expected, predicted))"
      ],
      "execution_count": null,
      "outputs": [
        {
          "output_type": "stream",
          "text": [
            "[[ 910    1    6    2    4    2   25    0   29   18]\n",
            " [   1 1055    3    3    1    4   12    0   25   18]\n",
            " [  86   32  336   39    7    4  266    2  210   20]\n",
            " [  78   56    8  337    1    1   63   12  336  110]\n",
            " [  23    1    6    2  144    5  100    7  190  492]\n",
            " [ 108   22    3   21    4   43   47    2  535   92]\n",
            " [  12   14    7    1    0    3  923    0   20    1]\n",
            " [   4    6    1    8    8    1    3  330   27  659]\n",
            " [  13  126    7    8    4    5   12    1  605  201]\n",
            " [   5   11    4    2   12    1    1   14   13  957]]\n"
          ],
          "name": "stdout"
        }
      ]
    },
    {
      "cell_type": "markdown",
      "metadata": {
        "id": "la6gwg789tRs"
      },
      "source": [
        "# K-Nearest Neighbors\n"
      ]
    },
    {
      "cell_type": "markdown",
      "metadata": {
        "id": "hIWfPzG18YPQ"
      },
      "source": [
        "NOTE: K-Nearest Neighbors is a \"lazy\" algorithm - the separation of test & training is not truly necessary - more details available at https://scikit-learn.org/stable/modules/neighbors.html"
      ]
    },
    {
      "cell_type": "code",
      "metadata": {
        "colab": {
          "background_save": true
        },
        "id": "rL9NQieErH_Z",
        "outputId": "96eadc04-56dc-4cdf-9e3e-2cc346eb72b6"
      },
      "source": [
        "# MODEL BUILD - K-Nearest Neighbors - Just fit/score entire sample\n",
        "\n",
        "neigh = KNeighborsClassifier(n_neighbors=3)\n",
        "neigh.fit(X, y)\n",
        "neigh.score(X, y)\n"
      ],
      "execution_count": null,
      "outputs": [
        {
          "output_type": "execute_result",
          "data": {
            "text/plain": [
              "0.9870714285714286"
            ]
          },
          "metadata": {
            "tags": []
          },
          "execution_count": 0
        }
      ]
    },
    {
      "cell_type": "markdown",
      "metadata": {
        "id": "EV30Riqz9l9O"
      },
      "source": [
        "# Random Forest"
      ]
    },
    {
      "cell_type": "markdown",
      "metadata": {
        "id": "RGFPONrv72Wm"
      },
      "source": [
        "A random forest is an ensemble of decision trees.  More details can be found [here](https://web.archive.org/web/20160417030218/http://ect.bell-labs.com/who/tkh/publications/papers/odt.pdf)\n"
      ]
    },
    {
      "cell_type": "code",
      "metadata": {
        "colab": {
          "base_uri": "https://localhost:8080/"
        },
        "id": "H3Z0nrcK86TH",
        "outputId": "b1ecec84-3943-4892-f1d7-f86ac7b3a7e0"
      },
      "source": [
        "# MODEL BUILD - RANDOM FORESTS\n",
        "\n",
        "from sklearn.ensemble import RandomForestClassifier \n",
        "\n",
        "forest = RandomForestClassifier(n_estimators = 100)\n",
        "forest.fit(X_train, y_train)\n",
        "print('Score: ', forest.score(X_test, y_test))\n",
        "predictions = forest.predict(X_test)"
      ],
      "execution_count": null,
      "outputs": [
        {
          "output_type": "stream",
          "text": [
            "Score:  0.9411\n"
          ],
          "name": "stdout"
        }
      ]
    },
    {
      "cell_type": "code",
      "metadata": {
        "id": "tiHjgXiqiqON"
      },
      "source": [
        "expected = y_test\n",
        "predicted = predictions\n",
        "print(sklearn.metrics.confusion_matrix(expected, predicted))"
      ],
      "execution_count": null,
      "outputs": []
    }
  ]
}