{
  "nbformat": 4,
  "nbformat_minor": 0,
  "metadata": {
    "colab": {
      "name": "DSA_BoomerPython_Week7_MLP.ipynb",
      "provenance": [],
      "include_colab_link": true
    },
    "kernelspec": {
      "name": "python3",
      "display_name": "Python 3"
    }
  },
  "cells": [
    {
      "cell_type": "markdown",
      "metadata": {
        "id": "view-in-github",
        "colab_type": "text"
      },
      "source": [
        "<a href=\"https://colab.research.google.com/github/BoomerPython/Week_7/blob/main/DSA_BoomerPython_Week7_MLP.ipynb\" target=\"_parent\"><img src=\"https://colab.research.google.com/assets/colab-badge.svg\" alt=\"Open In Colab\"/></a>"
      ]
    },
    {
      "cell_type": "code",
      "metadata": {
        "id": "Y0zqqZwotK_2"
      },
      "source": [
        "# BASIC WALK THROUGH FOR MNIST MLP\n",
        "# BASED ON SKLEARN TUTORIALS \n",
        "# ALTERNATIVE TO CREATING MLP MODEL THE OLD FASHIONED WAY\n",
        "\n",
        "from sklearn import datasets, metrics\n",
        "from sklearn.neural_network import MLPClassifier\n",
        "from sklearn.model_selection import train_test_split"
      ],
      "execution_count": null,
      "outputs": []
    },
    {
      "cell_type": "code",
      "metadata": {
        "id": "lhm5xXKytg76"
      },
      "source": [
        "# OBTAIN\n",
        "\n",
        "digits = datasets.load_digits()"
      ],
      "execution_count": null,
      "outputs": []
    },
    {
      "cell_type": "code",
      "metadata": {
        "id": "fZfbEMtFtr4X"
      },
      "source": [
        "# SCRUB\n",
        "# NORMALIZE INPUTS FROM RGB TO 0-1\n",
        "\n",
        "X = digits.data / 255\n",
        "y = digits.target\n",
        "\n",
        "X_train, X_test, y_train, y_test = train_test_split(X, y, test_size=0.3, random_state=42)"
      ],
      "execution_count": null,
      "outputs": []
    },
    {
      "cell_type": "code",
      "metadata": {
        "id": "4XWy-mvFuQxf"
      },
      "source": [
        "# MODEL\n",
        "# Build basic model using MLP Classifier\n",
        "# Additional configurations available:  https://scikit-learn.org/stable/modules/generated/sklearn.neural_network.MLPClassifier.html\n",
        "\n",
        "\n",
        "mlp = MLPClassifier(hidden_layer_sizes=(100,), max_iter=100, alpha=1e-4, solver=\"sgd\",\n",
        "                    verbose = 10, tol=1e-4, random_state=1, learning_rate_init=.1)\n",
        "  "
      ],
      "execution_count": null,
      "outputs": []
    },
    {
      "cell_type": "code",
      "metadata": {
        "id": "YHpS6DI-utYP",
        "colab": {
          "base_uri": "https://localhost:8080/"
        },
        "outputId": "b94fd3a9-459f-4477-d0e2-3dea9a6e1c81"
      },
      "source": [
        "# MODEL\n",
        "# FIT\n",
        "\n",
        "history = mlp.fit(X_train, y_train)"
      ],
      "execution_count": null,
      "outputs": [
        {
          "output_type": "stream",
          "text": [
            "Iteration 1, loss = 2.31189452\n",
            "Iteration 2, loss = 2.29974144\n",
            "Iteration 3, loss = 2.29469370\n",
            "Iteration 4, loss = 2.28968418\n",
            "Iteration 5, loss = 2.28118427\n",
            "Iteration 6, loss = 2.27374602\n",
            "Iteration 7, loss = 2.26639227\n",
            "Iteration 8, loss = 2.25687395\n",
            "Iteration 9, loss = 2.24754475\n",
            "Iteration 10, loss = 2.23544888\n",
            "Iteration 11, loss = 2.22227152\n",
            "Iteration 12, loss = 2.20831556\n",
            "Iteration 13, loss = 2.19040433\n",
            "Iteration 14, loss = 2.17193629\n",
            "Iteration 15, loss = 2.14928455\n",
            "Iteration 16, loss = 2.12649716\n",
            "Iteration 17, loss = 2.09663258\n",
            "Iteration 18, loss = 2.06480986\n",
            "Iteration 19, loss = 2.02970561\n",
            "Iteration 20, loss = 1.98953856\n",
            "Iteration 21, loss = 1.94660687\n",
            "Iteration 22, loss = 1.89911618\n",
            "Iteration 23, loss = 1.84628194\n",
            "Iteration 24, loss = 1.79529654\n",
            "Iteration 25, loss = 1.73486524\n",
            "Iteration 26, loss = 1.67701581\n",
            "Iteration 27, loss = 1.61771950\n",
            "Iteration 28, loss = 1.55692327\n",
            "Iteration 29, loss = 1.49532188\n",
            "Iteration 30, loss = 1.43321877\n",
            "Iteration 31, loss = 1.37400245\n",
            "Iteration 32, loss = 1.31759886\n",
            "Iteration 33, loss = 1.26159959\n",
            "Iteration 34, loss = 1.20913129\n",
            "Iteration 35, loss = 1.16114762\n",
            "Iteration 36, loss = 1.10756992\n",
            "Iteration 37, loss = 1.06496794\n",
            "Iteration 38, loss = 1.02245358\n",
            "Iteration 39, loss = 0.98244554\n",
            "Iteration 40, loss = 0.94114211\n",
            "Iteration 41, loss = 0.90426234\n",
            "Iteration 42, loss = 0.87247624\n",
            "Iteration 43, loss = 0.83945592\n",
            "Iteration 44, loss = 0.81260948\n",
            "Iteration 45, loss = 0.78195613\n",
            "Iteration 46, loss = 0.76132097\n",
            "Iteration 47, loss = 0.73183009\n",
            "Iteration 48, loss = 0.70830462\n",
            "Iteration 49, loss = 0.68881777\n",
            "Iteration 50, loss = 0.66329461\n",
            "Iteration 51, loss = 0.64556497\n",
            "Iteration 52, loss = 0.62269619\n",
            "Iteration 53, loss = 0.60753242\n",
            "Iteration 54, loss = 0.59441040\n",
            "Iteration 55, loss = 0.57681778\n",
            "Iteration 56, loss = 0.55849187\n",
            "Iteration 57, loss = 0.54322643\n",
            "Iteration 58, loss = 0.52929761\n",
            "Iteration 59, loss = 0.51643445\n",
            "Iteration 60, loss = 0.51082787\n",
            "Iteration 61, loss = 0.49374749\n",
            "Iteration 62, loss = 0.48159461\n",
            "Iteration 63, loss = 0.47449638\n",
            "Iteration 64, loss = 0.46600724\n",
            "Iteration 65, loss = 0.45391499\n",
            "Iteration 66, loss = 0.44435470\n",
            "Iteration 67, loss = 0.43497351\n",
            "Iteration 68, loss = 0.42177622\n",
            "Iteration 69, loss = 0.42087313\n",
            "Iteration 70, loss = 0.40538901\n",
            "Iteration 71, loss = 0.39896372\n",
            "Iteration 72, loss = 0.39393869\n",
            "Iteration 73, loss = 0.38692338\n",
            "Iteration 74, loss = 0.37792354\n",
            "Iteration 75, loss = 0.37558196\n",
            "Iteration 76, loss = 0.36801149\n",
            "Iteration 77, loss = 0.35863131\n",
            "Iteration 78, loss = 0.35716786\n",
            "Iteration 79, loss = 0.34697397\n",
            "Iteration 80, loss = 0.34133114\n",
            "Iteration 81, loss = 0.33634668\n",
            "Iteration 82, loss = 0.33303905\n",
            "Iteration 83, loss = 0.32736346\n",
            "Iteration 84, loss = 0.31950683\n",
            "Iteration 85, loss = 0.31524707\n",
            "Iteration 86, loss = 0.31149529\n",
            "Iteration 87, loss = 0.31341853\n",
            "Iteration 88, loss = 0.30509188\n",
            "Iteration 89, loss = 0.29767967\n",
            "Iteration 90, loss = 0.29659972\n",
            "Iteration 91, loss = 0.29044615\n",
            "Iteration 92, loss = 0.29194523\n",
            "Iteration 93, loss = 0.28143118\n",
            "Iteration 94, loss = 0.28192705\n",
            "Iteration 95, loss = 0.27623104\n",
            "Iteration 96, loss = 0.27580973\n",
            "Iteration 97, loss = 0.27150049\n",
            "Iteration 98, loss = 0.26860522\n",
            "Iteration 99, loss = 0.26541357\n",
            "Iteration 100, loss = 0.26232918\n"
          ],
          "name": "stdout"
        },
        {
          "output_type": "stream",
          "text": [
            "/usr/local/lib/python3.7/dist-packages/sklearn/neural_network/_multilayer_perceptron.py:571: ConvergenceWarning: Stochastic Optimizer: Maximum iterations (100) reached and the optimization hasn't converged yet.\n",
            "  % self.max_iter, ConvergenceWarning)\n"
          ],
          "name": "stderr"
        }
      ]
    },
    {
      "cell_type": "code",
      "metadata": {
        "id": "mFBQCovJu7yP",
        "colab": {
          "base_uri": "https://localhost:8080/"
        },
        "outputId": "0c818c55-78fe-4b3c-cb62-bf9aab5f71a2"
      },
      "source": [
        "# RECOMMMEND\n",
        "# Performance of model\n",
        "\n",
        "print(\"Training set score: {0}\".format(mlp.score(X_train, y_train)))\n",
        "print()\n",
        "print(\"Test set score: {0}\".format(mlp.score(X_test, y_test)))\n"
      ],
      "execution_count": null,
      "outputs": [
        {
          "output_type": "stream",
          "text": [
            "Training set score: 0.9387430389817024\n",
            "\n",
            "Test set score: 0.9296296296296296\n"
          ],
          "name": "stdout"
        }
      ]
    },
    {
      "cell_type": "code",
      "metadata": {
        "colab": {
          "base_uri": "https://localhost:8080/"
        },
        "id": "su6C-gB4Tmlr",
        "outputId": "a54bc972-6e64-401f-890f-1180443b653f"
      },
      "source": [
        "# RECOMMMEND\n",
        "# Performance of model\n",
        "\n",
        "from sklearn.metrics import confusion_matrix\n",
        "\n",
        "confusion_matrix(mlp.predict(X_test), y_test)"
      ],
      "execution_count": null,
      "outputs": [
        {
          "output_type": "execute_result",
          "data": {
            "text/plain": [
              "array([[51,  0,  0,  0,  0,  0,  2,  0,  0,  0],\n",
              "       [ 0, 42,  1,  1,  3,  0,  0,  0,  5,  1],\n",
              "       [ 0,  1, 46,  1,  0,  0,  0,  0,  0,  0],\n",
              "       [ 0,  0,  0, 51,  0,  0,  0,  0,  0,  2],\n",
              "       [ 1,  2,  0,  0, 57,  1,  0,  0,  0,  1],\n",
              "       [ 1,  0,  0,  0,  0, 63,  0,  0,  1,  1],\n",
              "       [ 0,  0,  0,  0,  0,  0, 51,  0,  0,  0],\n",
              "       [ 0,  0,  0,  0,  0,  0,  0, 54,  0,  3],\n",
              "       [ 0,  2,  0,  1,  0,  0,  0,  0, 37,  1],\n",
              "       [ 0,  3,  0,  0,  0,  2,  0,  1,  0, 50]])"
            ]
          },
          "metadata": {
            "tags": []
          },
          "execution_count": 19
        }
      ]
    }
  ]
}